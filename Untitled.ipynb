{
 "cells": [
  {
   "cell_type": "code",
   "execution_count": 1,
   "id": "8dbcee8e-c7d1-4792-8b59-8c7a4214fbfc",
   "metadata": {
    "scrolled": true
   },
   "outputs": [
    {
     "name": "stderr",
     "output_type": "stream",
     "text": [
      "/work/FAC/FGSE/IDYST/tbeucler/default/freddy0218/miniconda3/envs/ships/lib/python3.9/site-packages/tqdm/auto.py:21: TqdmWarning: IProgress not found. Please update jupyter and ipywidgets. See https://ipywidgets.readthedocs.io/en/stable/user_install.html\n",
      "  from .autonotebook import tqdm as notebook_tqdm\n"
     ]
    }
   ],
   "source": [
    "from tqdm.auto import tqdm \n",
    "import pandas as pd\n",
    "import numpy as np\n",
    "import xarray as xr\n",
    "import netCDF4 as nf\n",
    "from netCDF4 import Dataset\n",
    "%matplotlib inline\n",
    "import glob\n",
    "import seaborn as sns\n",
    "import matplotlib.pyplot as plt\n",
    "import ast"
   ]
  },
  {
   "cell_type": "code",
   "execution_count": 2,
   "id": "72d9992f-8260-459f-8732-7abeb913834f",
   "metadata": {},
   "outputs": [],
   "source": [
    "# Custom packages\n",
    "import read_config\n",
    "from util.data_process import read_vars"
   ]
  },
  {
   "cell_type": "code",
   "execution_count": 3,
   "id": "28376511-3def-4b41-b8f8-2250e00a232b",
   "metadata": {},
   "outputs": [],
   "source": [
    "# Read configuration file\n",
    "config_set = read_config.read_config()"
   ]
  },
  {
   "cell_type": "code",
   "execution_count": 4,
   "id": "2b142b68-e709-4557-b8e4-92805c64cd3c",
   "metadata": {},
   "outputs": [
    {
     "name": "stderr",
     "output_type": "stream",
     "text": [
      "100%|███████████████████████████████████████████████████████████████████████████████████████████████████████████████████████████████████| 22/22 [00:00<00:00, 571.17it/s]\n"
     ]
    }
   ],
   "source": [
    "# Process the filted TC list in the config file\n",
    "TC_tofilt_list = ast.literal_eval(config_set['TCfilt'])\n",
    "# Get the names of the remaining TCs\n",
    "filt_TClist = read_vars.remove_storms(trackpath=config_set['track_path'],\n",
    "                        basinID='NA',\n",
    "                        yearmin=int(config_set['start_year']),\n",
    "                        yearmax=int(config_set['end_year']),\n",
    "                        remove_set=TC_tofilt_list)"
   ]
  },
  {
   "cell_type": "code",
   "execution_count": 5,
   "id": "12e0d8ba-8c41-4f5b-8b5e-ed540801deaf",
   "metadata": {},
   "outputs": [
    {
     "name": "stderr",
     "output_type": "stream",
     "text": [
      "22it [00:00, 39.00it/s]\n"
     ]
    }
   ],
   "source": [
    "storeSHIPS = read_vars.read_SHIPS_csv(startyear=int(config_set['start_year']),\n",
    "                                      endyear=int(config_set['end_year']),\n",
    "                                      vars_path=config_set['vars_path'],\n",
    "                                      filted_TCnames=filt_TClist,\n",
    "                                      suffixlist=['newships_dev_POT'])"
   ]
  },
  {
   "cell_type": "code",
   "execution_count": 20,
   "id": "bde869ec-c42c-46c6-842e-d314961e4772",
   "metadata": {},
   "outputs": [
    {
     "data": {
      "text/plain": [
       "\"['VMAX', 'MSLP', 'T200', 'T250', 'LAT', 'CSST', 'PSLV', 'Z850', 'D200', 'EPOS', 'SHDC', 'RHMD', 'TWAC', 'G200', 'TADV', 'SHGC', 'POT', 'POT2', 'LHRD', 'VSHR', 'PER', 'VPER']\""
      ]
     },
     "execution_count": 20,
     "metadata": {},
     "output_type": "execute_result"
    }
   ],
   "source": [
    "config_set['SHIPSops_varname']"
   ]
  },
  {
   "cell_type": "code",
   "execution_count": 18,
   "id": "70bd4f8c-5006-4451-ab8f-c2cca0d29237",
   "metadata": {},
   "outputs": [],
   "source": [
    "if config_set['target_lag']==4:\n",
    "    target='DELV24'"
   ]
  },
  {
   "cell_type": "code",
   "execution_count": 19,
   "id": "25b3aa0a-2499-407a-ae6f-2253e136248d",
   "metadata": {},
   "outputs": [
    {
     "name": "stderr",
     "output_type": "stream",
     "text": [
      "0it [00:00, ?it/s]\n"
     ]
    },
    {
     "ename": "KeyError",
     "evalue": "\"['VMAX', 'MSLP', 'T200', 'T250', 'LAT', 'CSST', 'PSLV', 'Z850', 'D200', 'EPOS', 'SHDC', 'RHMD', 'TWAC', 'G200', 'TADV', 'SHGC', 'POT', 'POT2', 'LHRD', 'VSHR', 'PER', 'VPER']\"",
     "output_type": "error",
     "traceback": [
      "\u001b[0;31m---------------------------------------------------------------------------\u001b[0m",
      "\u001b[0;31mKeyError\u001b[0m                                  Traceback (most recent call last)",
      "File \u001b[0;32m/work/FAC/FGSE/IDYST/tbeucler/default/freddy0218/miniconda3/envs/ships/lib/python3.9/site-packages/pandas/core/indexes/base.py:3805\u001b[0m, in \u001b[0;36mIndex.get_loc\u001b[0;34m(self, key)\u001b[0m\n\u001b[1;32m   3804\u001b[0m \u001b[38;5;28;01mtry\u001b[39;00m:\n\u001b[0;32m-> 3805\u001b[0m     \u001b[38;5;28;01mreturn\u001b[39;00m \u001b[38;5;28;43mself\u001b[39;49m\u001b[38;5;241;43m.\u001b[39;49m\u001b[43m_engine\u001b[49m\u001b[38;5;241;43m.\u001b[39;49m\u001b[43mget_loc\u001b[49m\u001b[43m(\u001b[49m\u001b[43mcasted_key\u001b[49m\u001b[43m)\u001b[49m\n\u001b[1;32m   3806\u001b[0m \u001b[38;5;28;01mexcept\u001b[39;00m \u001b[38;5;167;01mKeyError\u001b[39;00m \u001b[38;5;28;01mas\u001b[39;00m err:\n",
      "File \u001b[0;32mindex.pyx:167\u001b[0m, in \u001b[0;36mpandas._libs.index.IndexEngine.get_loc\u001b[0;34m()\u001b[0m\n",
      "File \u001b[0;32mindex.pyx:196\u001b[0m, in \u001b[0;36mpandas._libs.index.IndexEngine.get_loc\u001b[0;34m()\u001b[0m\n",
      "File \u001b[0;32mpandas/_libs/hashtable_class_helper.pxi:7081\u001b[0m, in \u001b[0;36mpandas._libs.hashtable.PyObjectHashTable.get_item\u001b[0;34m()\u001b[0m\n",
      "File \u001b[0;32mpandas/_libs/hashtable_class_helper.pxi:7089\u001b[0m, in \u001b[0;36mpandas._libs.hashtable.PyObjectHashTable.get_item\u001b[0;34m()\u001b[0m\n",
      "\u001b[0;31mKeyError\u001b[0m: \"['VMAX', 'MSLP', 'T200', 'T250', 'LAT', 'CSST', 'PSLV', 'Z850', 'D200', 'EPOS', 'SHDC', 'RHMD', 'TWAC', 'G200', 'TADV', 'SHGC', 'POT', 'POT2', 'LHRD', 'VSHR', 'PER', 'VPER']\"",
      "\nThe above exception was the direct cause of the following exception:\n",
      "\u001b[0;31mKeyError\u001b[0m                                  Traceback (most recent call last)",
      "Cell \u001b[0;32mIn[19], line 10\u001b[0m\n\u001b[1;32m      7\u001b[0m temp \u001b[38;5;241m=\u001b[39m pd\u001b[38;5;241m.\u001b[39mconcat([storeSHIPS[inddd][stormname][i] \u001b[38;5;28;01mfor\u001b[39;00m i \u001b[38;5;129;01min\u001b[39;00m \u001b[38;5;28mrange\u001b[39m(\u001b[38;5;28mlen\u001b[39m(storeSHIPS[inddd][stormname]))], axis\u001b[38;5;241m=\u001b[39m\u001b[38;5;241m1\u001b[39m, join\u001b[38;5;241m=\u001b[39m\u001b[38;5;124m'\u001b[39m\u001b[38;5;124minner\u001b[39m\u001b[38;5;124m'\u001b[39m)\n\u001b[1;32m      9\u001b[0m tempv\u001b[38;5;241m=\u001b[39mtemp[target][\u001b[38;5;241m4\u001b[39m:]\u001b[38;5;241m.\u001b[39mreset_index(drop\u001b[38;5;241m=\u001b[39m\u001b[38;5;28;01mTrue\u001b[39;00m)\u001b[38;5;66;03m#temp.assign(DELV24=temp.DELV24.shift(-lagtime))#.drop(temp.index[-1])\u001b[39;00m\n\u001b[0;32m---> 10\u001b[0m tempd \u001b[38;5;241m=\u001b[39m \u001b[43mtemp\u001b[49m\u001b[43m[\u001b[49m\u001b[43mconfig_set\u001b[49m\u001b[43m[\u001b[49m\u001b[38;5;124;43m'\u001b[39;49m\u001b[38;5;124;43mSHIPSops_varname\u001b[39;49m\u001b[38;5;124;43m'\u001b[39;49m\u001b[43m]\u001b[49m\u001b[43m]\u001b[49m[:\u001b[38;5;241m-\u001b[39m\u001b[38;5;241m4\u001b[39m]\u001b[38;5;241m.\u001b[39mreset_index(drop\u001b[38;5;241m=\u001b[39m\u001b[38;5;28;01mTrue\u001b[39;00m)\n\u001b[1;32m     11\u001b[0m df_storms[stormname] \u001b[38;5;241m=\u001b[39m pd\u001b[38;5;241m.\u001b[39mconcat([tempv,tempd], axis\u001b[38;5;241m=\u001b[39m\u001b[38;5;241m1\u001b[39m, join\u001b[38;5;241m=\u001b[39m\u001b[38;5;124m'\u001b[39m\u001b[38;5;124minner\u001b[39m\u001b[38;5;124m'\u001b[39m)\n\u001b[1;32m     12\u001b[0m \u001b[38;5;28mprint\u001b[39m(pd\u001b[38;5;241m.\u001b[39mconcat([tempv,tempd], axis\u001b[38;5;241m=\u001b[39m\u001b[38;5;241m1\u001b[39m, join\u001b[38;5;241m=\u001b[39m\u001b[38;5;124m'\u001b[39m\u001b[38;5;124minner\u001b[39m\u001b[38;5;124m'\u001b[39m))\n",
      "File \u001b[0;32m/work/FAC/FGSE/IDYST/tbeucler/default/freddy0218/miniconda3/envs/ships/lib/python3.9/site-packages/pandas/core/frame.py:4102\u001b[0m, in \u001b[0;36mDataFrame.__getitem__\u001b[0;34m(self, key)\u001b[0m\n\u001b[1;32m   4100\u001b[0m \u001b[38;5;28;01mif\u001b[39;00m \u001b[38;5;28mself\u001b[39m\u001b[38;5;241m.\u001b[39mcolumns\u001b[38;5;241m.\u001b[39mnlevels \u001b[38;5;241m>\u001b[39m \u001b[38;5;241m1\u001b[39m:\n\u001b[1;32m   4101\u001b[0m     \u001b[38;5;28;01mreturn\u001b[39;00m \u001b[38;5;28mself\u001b[39m\u001b[38;5;241m.\u001b[39m_getitem_multilevel(key)\n\u001b[0;32m-> 4102\u001b[0m indexer \u001b[38;5;241m=\u001b[39m \u001b[38;5;28;43mself\u001b[39;49m\u001b[38;5;241;43m.\u001b[39;49m\u001b[43mcolumns\u001b[49m\u001b[38;5;241;43m.\u001b[39;49m\u001b[43mget_loc\u001b[49m\u001b[43m(\u001b[49m\u001b[43mkey\u001b[49m\u001b[43m)\u001b[49m\n\u001b[1;32m   4103\u001b[0m \u001b[38;5;28;01mif\u001b[39;00m is_integer(indexer):\n\u001b[1;32m   4104\u001b[0m     indexer \u001b[38;5;241m=\u001b[39m [indexer]\n",
      "File \u001b[0;32m/work/FAC/FGSE/IDYST/tbeucler/default/freddy0218/miniconda3/envs/ships/lib/python3.9/site-packages/pandas/core/indexes/base.py:3812\u001b[0m, in \u001b[0;36mIndex.get_loc\u001b[0;34m(self, key)\u001b[0m\n\u001b[1;32m   3807\u001b[0m     \u001b[38;5;28;01mif\u001b[39;00m \u001b[38;5;28misinstance\u001b[39m(casted_key, \u001b[38;5;28mslice\u001b[39m) \u001b[38;5;129;01mor\u001b[39;00m (\n\u001b[1;32m   3808\u001b[0m         \u001b[38;5;28misinstance\u001b[39m(casted_key, abc\u001b[38;5;241m.\u001b[39mIterable)\n\u001b[1;32m   3809\u001b[0m         \u001b[38;5;129;01mand\u001b[39;00m \u001b[38;5;28many\u001b[39m(\u001b[38;5;28misinstance\u001b[39m(x, \u001b[38;5;28mslice\u001b[39m) \u001b[38;5;28;01mfor\u001b[39;00m x \u001b[38;5;129;01min\u001b[39;00m casted_key)\n\u001b[1;32m   3810\u001b[0m     ):\n\u001b[1;32m   3811\u001b[0m         \u001b[38;5;28;01mraise\u001b[39;00m InvalidIndexError(key)\n\u001b[0;32m-> 3812\u001b[0m     \u001b[38;5;28;01mraise\u001b[39;00m \u001b[38;5;167;01mKeyError\u001b[39;00m(key) \u001b[38;5;28;01mfrom\u001b[39;00m \u001b[38;5;21;01merr\u001b[39;00m\n\u001b[1;32m   3813\u001b[0m \u001b[38;5;28;01mexcept\u001b[39;00m \u001b[38;5;167;01mTypeError\u001b[39;00m:\n\u001b[1;32m   3814\u001b[0m     \u001b[38;5;66;03m# If we have a listlike key, _check_indexing_error will raise\u001b[39;00m\n\u001b[1;32m   3815\u001b[0m     \u001b[38;5;66;03m#  InvalidIndexError. Otherwise we fall through and re-raise\u001b[39;00m\n\u001b[1;32m   3816\u001b[0m     \u001b[38;5;66;03m#  the TypeError.\u001b[39;00m\n\u001b[1;32m   3817\u001b[0m     \u001b[38;5;28mself\u001b[39m\u001b[38;5;241m.\u001b[39m_check_indexing_error(key)\n",
      "\u001b[0;31mKeyError\u001b[0m: \"['VMAX', 'MSLP', 'T200', 'T250', 'LAT', 'CSST', 'PSLV', 'Z850', 'D200', 'EPOS', 'SHDC', 'RHMD', 'TWAC', 'G200', 'TADV', 'SHGC', 'POT', 'POT2', 'LHRD', 'VSHR', 'PER', 'VPER']\""
     ]
    }
   ],
   "source": [
    "store_dfstorms = {}\n",
    "for inddd,year in tqdm(enumerate([int(obj) for obj in np.linspace(2000,2021,22)])):\n",
    "    filt_TCyear = filt_TClist[inddd]\n",
    "    df_storms = {}\n",
    "    for stormname in filt_TCyear:\n",
    "        # Convert list to pandas dataframe\n",
    "        temp = pd.concat([storeSHIPS[inddd][stormname][i] for i in range(len(storeSHIPS[inddd][stormname]))], axis=1, join='inner')\n",
    "        \n",
    "        tempv=temp[target][4:].reset_index(drop=True)#temp.assign(DELV24=temp.DELV24.shift(-lagtime))#.drop(temp.index[-1])\n",
    "        tempd = temp[config_set['SHIPSops_varname']][:-4].reset_index(drop=True)\n",
    "        df_storms[stormname] = pd.concat([tempv,tempd], axis=1, join='inner')\n",
    "        print(pd.concat([tempv,tempd], axis=1, join='inner'))\n",
    "        print(aaaaa)\n",
    "    #store_dfstorms[year]=df_storms"
   ]
  },
  {
   "cell_type": "code",
   "execution_count": 11,
   "id": "3cfa6866-cbed-40e8-ae74-367b27a8d467",
   "metadata": {},
   "outputs": [],
   "source": [
    "def read_SHIPS_csv(startyear=None,endyear=None,vars_path=None,filted_TCnames=None,suffixlist=None):\n",
    "    storeyear = []\n",
    "    for ind,year in tqdm(enumerate([int(obj) for obj in np.linspace(startyear,endyear,int(endyear)-int(startyear)+1)])):\n",
    "        filt_TCyear = filted_TCnames[ind]\n",
    "        storestorms = {}\n",
    "        for i in range(len(filt_TCyear)):\n",
    "            storestorms[filt_TCyear[i]] = read_processed_vars_ships(vars_path,suffixlist,year,filt_TCyear[i])\n",
    "        storeyear.append(storestorms)\n",
    "    return storeyear"
   ]
  },
  {
   "cell_type": "code",
   "execution_count": null,
   "id": "542c8cb2-ae88-4ef5-983a-f01253897e0c",
   "metadata": {},
   "outputs": [],
   "source": []
  }
 ],
 "metadata": {
  "kernelspec": {
   "display_name": "Python 3 (ipykernel)",
   "language": "python",
   "name": "python3"
  },
  "language_info": {
   "codemirror_mode": {
    "name": "ipython",
    "version": 3
   },
   "file_extension": ".py",
   "mimetype": "text/x-python",
   "name": "python",
   "nbconvert_exporter": "python",
   "pygments_lexer": "ipython3",
   "version": "3.9.18"
  }
 },
 "nbformat": 4,
 "nbformat_minor": 5
}
