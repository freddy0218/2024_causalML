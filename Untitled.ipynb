{
 "cells": [
  {
   "cell_type": "code",
   "execution_count": 1,
   "id": "8dbcee8e-c7d1-4792-8b59-8c7a4214fbfc",
   "metadata": {
    "scrolled": true
   },
   "outputs": [],
   "source": [
    "from tqdm.auto import tqdm \n",
    "import pandas as pd\n",
    "import numpy as np\n",
    "import xarray as xr\n",
    "import netCDF4 as nf\n",
    "from netCDF4 import Dataset\n",
    "%matplotlib inline\n",
    "import glob\n",
    "import seaborn as sns\n",
    "import matplotlib.pyplot as plt\n",
    "import ast"
   ]
  },
  {
   "cell_type": "code",
   "execution_count": 2,
   "id": "72d9992f-8260-459f-8732-7abeb913834f",
   "metadata": {},
   "outputs": [],
   "source": [
    "# Custom packages\n",
    "import read_config\n",
    "from util.data_process import read_vars, proc_dataset"
   ]
  },
  {
   "cell_type": "code",
   "execution_count": 3,
   "id": "28376511-3def-4b41-b8f8-2250e00a232b",
   "metadata": {},
   "outputs": [],
   "source": [
    "# Read configuration file\n",
    "config_set = read_config.read_config()\n",
    "# Define Target\n",
    "if int(config_set['target_lag'])==4:\n",
    "    target='DELV24'"
   ]
  },
  {
   "cell_type": "markdown",
   "id": "6475c66d-37e3-4ecf-bcfb-677993e5f0e6",
   "metadata": {},
   "source": [
    "# Create Pandas DataFrame"
   ]
  },
  {
   "cell_type": "code",
   "execution_count": 4,
   "id": "2b142b68-e709-4557-b8e4-92805c64cd3c",
   "metadata": {},
   "outputs": [
    {
     "data": {
      "application/json": {
       "ascii": false,
       "bar_format": null,
       "colour": null,
       "elapsed": 0.0034987926483154297,
       "initial": 0,
       "n": 0,
       "ncols": null,
       "nrows": 48,
       "postfix": null,
       "prefix": "",
       "rate": null,
       "total": 22,
       "unit": "it",
       "unit_divisor": 1000,
       "unit_scale": false
      },
      "application/vnd.jupyter.widget-view+json": {
       "model_id": "bc0254ed383345639cb9ec8cee447851",
       "version_major": 2,
       "version_minor": 0
      },
      "text/plain": [
       "  0%|          | 0/22 [00:00<?, ?it/s]"
      ]
     },
     "metadata": {},
     "output_type": "display_data"
    }
   ],
   "source": [
    "# Process the filted TC list in the config file\n",
    "TC_tofilt_list = ast.literal_eval(config_set['TCfilt'])\n",
    "# Get the names of the remaining TCs\n",
    "filt_TClist = read_vars.remove_storms(trackpath=config_set['track_path'],basinID='NA',yearmin=int(config_set['start_year']),yearmax=int(config_set['end_year']),remove_set=TC_tofilt_list)"
   ]
  },
  {
   "cell_type": "code",
   "execution_count": 5,
   "id": "12e0d8ba-8c41-4f5b-8b5e-ed540801deaf",
   "metadata": {},
   "outputs": [
    {
     "data": {
      "application/json": {
       "ascii": false,
       "bar_format": null,
       "colour": null,
       "elapsed": 0.0027778148651123047,
       "initial": 0,
       "n": 0,
       "ncols": null,
       "nrows": 48,
       "postfix": null,
       "prefix": "",
       "rate": null,
       "total": null,
       "unit": "it",
       "unit_divisor": 1000,
       "unit_scale": false
      },
      "application/vnd.jupyter.widget-view+json": {
       "model_id": "ec1f7adf5ba747d6beb7d0f61999c84a",
       "version_major": 2,
       "version_minor": 0
      },
      "text/plain": [
       "0it [00:00, ?it/s]"
      ]
     },
     "metadata": {},
     "output_type": "display_data"
    },
    {
     "data": {
      "application/json": {
       "ascii": false,
       "bar_format": null,
       "colour": null,
       "elapsed": 0.002836465835571289,
       "initial": 0,
       "n": 0,
       "ncols": null,
       "nrows": 48,
       "postfix": null,
       "prefix": "",
       "rate": null,
       "total": null,
       "unit": "it",
       "unit_divisor": 1000,
       "unit_scale": false
      },
      "application/vnd.jupyter.widget-view+json": {
       "model_id": "384da9773db748c791d733fffebc7933",
       "version_major": 2,
       "version_minor": 0
      },
      "text/plain": [
       "0it [00:00, ?it/s]"
      ]
     },
     "metadata": {},
     "output_type": "display_data"
    }
   ],
   "source": [
    "# Read saved SHIPS csvs\n",
    "storeSHIPS = read_vars.read_SHIPS_csv(startyear=int(config_set['start_year']),endyear=int(config_set['end_year']),vars_path=config_set['vars_path'],\n",
    "                                      filted_TCnames=filt_TClist,suffixlist=['newships_dev_POT'])\n",
    "# Read selected variables from the pandas dfs\n",
    "SHIPS_df = read_vars.create_SHIPS_df(startyear=int(config_set['start_year']),endyear=int(config_set['end_year']),SHIPSdict=storeSHIPS,\n",
    "                                     wantvarnames=config_set['SHIPSops_varname'],targetname=target,filted_TCnames=filt_TClist,\n",
    "                                     lagnum=int(config_set['target_lag'])\n",
    "                                    )"
   ]
  },
  {
   "cell_type": "code",
   "execution_count": 6,
   "id": "542c8cb2-ae88-4ef5-983a-f01253897e0c",
   "metadata": {
    "scrolled": true
   },
   "outputs": [
    {
     "data": {
      "application/json": {
       "ascii": false,
       "bar_format": null,
       "colour": null,
       "elapsed": 0.0029692649841308594,
       "initial": 0,
       "n": 0,
       "ncols": null,
       "nrows": 48,
       "postfix": null,
       "prefix": "",
       "rate": null,
       "total": null,
       "unit": "it",
       "unit_divisor": 1000,
       "unit_scale": false
      },
      "application/vnd.jupyter.widget-view+json": {
       "model_id": "10e7a92c37674d038cd80ded7e4aa6b6",
       "version_major": 2,
       "version_minor": 0
      },
      "text/plain": [
       "0it [00:00, ?it/s]"
      ]
     },
     "metadata": {},
     "output_type": "display_data"
    }
   ],
   "source": [
    "# Add derived variables stored separately\n",
    "store_dfstorms_ships = read_vars.add_derive_df(startyear=int(config_set['start_year']),\n",
    "                                     endyear=int(config_set['end_year']),\n",
    "                                     SHIPSdict=SHIPS_df,\n",
    "                                     addfilepath='/work/FAC/FGSE/IDYST/tbeucler/default/saranya/causal/SHIPS/ships_pkl/all_storms_ships23vars_obswmax.pkl',\n",
    "                                     addvarname=['pc20'],\n",
    "                                     filted_TCnames=filt_TClist,\n",
    "                                     lagnum=int(config_set['target_lag'])\n",
    "                                    )\n",
    "\n",
    "var_names=store_dfstorms_ships[2001]['ALLISON'].columns.values.tolist()\n",
    "\n",
    "TC_fulllist = {}\n",
    "for year in np.linspace(int(config_set['start_year']),int(config_set['end_year']),int(config_set['end_year'])-int(config_set['start_year'])+1):\n",
    "    temp = store_dfstorms_ships[year]\n",
    "    for ind,name in enumerate(temp.keys()):\n",
    "        TC_fulllist[str(int(year))+'_'+name] = temp[name]"
   ]
  },
  {
   "cell_type": "markdown",
   "id": "a2918b0d-3acc-434e-9168-ccfd4890f55f",
   "metadata": {},
   "source": [
    "# Create ML-ready dataset"
   ]
  },
  {
   "cell_type": "code",
   "execution_count": 46,
   "id": "ab1a0472-898d-4802-b553-dfd3ca98d72a",
   "metadata": {},
   "outputs": [],
   "source": [
    "datastorer = proc_dataset.splitdata_handler(df=TC_fulllist,method='year',seed=40,config=config_set,testyears=[2020,2021])"
   ]
  },
  {
   "cell_type": "code",
   "execution_count": 59,
   "id": "f561c618-780f-4aa8-9d08-22f2164e888c",
   "metadata": {},
   "outputs": [],
   "source": [
    "datastorer_random = proc_dataset.splitdata_handler(df=TC_fulllist,method='random',seed=1,config=config_set,testyears=[2020,2021])"
   ]
  },
  {
   "cell_type": "code",
   "execution_count": 97,
   "id": "e1fded35-4089-446b-9df8-5d5fb1816974",
   "metadata": {},
   "outputs": [],
   "source": [
    "X,y,size = proc_dataset.df_proc_separate(datastorer['train'],datastorer['valid'],datastorer['test'],'DELV24')"
   ]
  },
  {
   "cell_type": "code",
   "execution_count": 79,
   "id": "c90ae063-7852-47e2-bea0-78bb2fc2fc1a",
   "metadata": {},
   "outputs": [],
   "source": [
    "from sklearn.linear_model import LinearRegression,Lasso,ElasticNet"
   ]
  },
  {
   "cell_type": "code",
   "execution_count": 86,
   "id": "c628a5b5-c45f-42dc-aa3a-25100a7a98b7",
   "metadata": {},
   "outputs": [
    {
     "data": {
      "text/plain": [
       "LinearRegression()"
      ]
     },
     "execution_count": 86,
     "metadata": {},
     "output_type": "execute_result"
    }
   ],
   "source": [
    "regr = LinearRegression()\n",
    "regr.fit(X['train'],y['train'])"
   ]
  },
  {
   "cell_type": "code",
   "execution_count": 90,
   "id": "4a74f81c-0081-4f0a-9423-a781826271ed",
   "metadata": {},
   "outputs": [],
   "source": [
    "def rSquare(estimations,measureds):\n",
    "    SEE = ((np.array(measureds) - np.array(estimations))**2).sum()\n",
    "    mMean = (np.array(measureds)).sum() / float(len(measureds))\n",
    "    dErr = ((mMean - measureds)**2).sum()\n",
    "    return 1-(SEE/dErr)"
   ]
  },
  {
   "cell_type": "code",
   "execution_count": 89,
   "id": "e1c09243-99a2-4438-9443-c84e4f04673b",
   "metadata": {},
   "outputs": [
    {
     "data": {
      "image/png": "[encoded data removed]",
      "text/plain": [
       "<Figure size 432x288 with 1 Axes>"
      ]
     },
     "metadata": {
      "needs_background": "light"
     },
     "output_type": "display_data"
    }
   ],
   "source": [
    "plt.plot(regr.predict(X['valid']))\n",
    "plt.plot(y['valid'])\n",
    "plt.show()"
   ]
  },
  {
   "cell_type": "code",
   "execution_count": 95,
   "id": "674ecbba-7533-48de-9902-17ccaaac504f",
   "metadata": {},
   "outputs": [
    {
     "data": {
      "text/plain": [
       "0.3437522254157591"
      ]
     },
     "execution_count": 95,
     "metadata": {},
     "output_type": "execute_result"
    }
   ],
   "source": [
    "rSquare(regr.predict(X['test']),y['test'])"
   ]
  },
  {
   "cell_type": "code",
   "execution_count": 92,
   "id": "1376dcdd-e81c-40ff-9f7f-9a826ea39e33",
   "metadata": {},
   "outputs": [],
   "source": [
    "from sklearn.metrics import r2_score"
   ]
  },
  {
   "cell_type": "code",
   "execution_count": 93,
   "id": "96505222-8218-454c-8bfe-ba7d7413a7bd",
   "metadata": {},
   "outputs": [
    {
     "data": {
      "text/plain": [
       "0.3082955900799167"
      ]
     },
     "execution_count": 93,
     "metadata": {},
     "output_type": "execute_result"
    }
   ],
   "source": [
    "r2_score(y['valid'],regr.predict(X['valid']))"
   ]
  },
  {
   "cell_type": "code",
   "execution_count": 96,
   "id": "f1c9f717-7e84-48cd-a418-2b019ae2eebf",
   "metadata": {},
   "outputs": [
    {
     "data": {
      "text/plain": [
       "<module 'util.data_process.proc_dataset' from '/work/FAC/FGSE/IDYST/tbeucler/default/freddy0218/2024_causalML/util/data_process/proc_dataset.py'>"
      ]
     },
     "execution_count": 96,
     "metadata": {},
     "output_type": "execute_result"
    }
   ],
   "source": [
    "import importlib\n",
    "importlib.reload(proc_dataset)"
   ]
  },
  {
   "cell_type": "code",
   "execution_count": null,
   "id": "e010f72c-fcf5-4666-a707-33164443c322",
   "metadata": {},
   "outputs": [],
   "source": []
  }
 ],
 "metadata": {
  "kernelspec": {
   "display_name": "Python 3 (ipykernel)",
   "language": "python",
   "name": "python3"
  },
  "language_info": {
   "codemirror_mode": {
    "name": "ipython",
    "version": 3
   },
   "file_extension": ".py",
   "mimetype": "text/x-python",
   "name": "python",
   "nbconvert_exporter": "python",
   "pygments_lexer": "ipython3",
   "version": "3.9.16"
  }
 },
 "nbformat": 4,
 "nbformat_minor": 5
}
