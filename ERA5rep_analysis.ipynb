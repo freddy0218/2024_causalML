{
 "cells": [
  {
   "cell_type": "code",
   "execution_count": 1,
   "id": "3a574145-b906-4f60-bf64-78c37bea1bc7",
   "metadata": {},
   "outputs": [],
   "source": [
    "from tqdm.auto import tqdm \n",
    "import pandas as pd\n",
    "import numpy as np\n",
    "import xarray as xr\n",
    "import netCDF4 as nf\n",
    "from netCDF4 import Dataset\n",
    "%matplotlib inline\n",
    "import glob\n",
    "import seaborn as sns\n",
    "import matplotlib.pyplot as plt\n",
    "import ast,gc,pickle\n",
    "from copy import deepcopy\n",
    "\n",
    "# Custom packages\n",
    "import read_config\n",
    "from util.data_process import read_vars, proc_dataset, miss\n",
    "from util.models import performance_scores,train_baseline,causal_settings,train_PC1"
   ]
  },
  {
   "cell_type": "code",
   "execution_count": 2,
   "id": "01913bbd-3794-4dbe-9aac-19564ad3162a",
   "metadata": {},
   "outputs": [],
   "source": [
    "# Read configuration file\n",
    "config_set = read_config.read_config()\n",
    "# Define Target\n",
    "if int(config_set['target_lag'])==4:\n",
    "    target='delv24'\n",
    "elif int(config_set['target_lag'])==8:\n",
    "    target='delv48'\n",
    "seeds = np.arange(100,130,1)"
   ]
  },
  {
   "cell_type": "code",
   "execution_count": 3,
   "id": "5e1d552f-d1d5-4fa1-a891-fc472d474ae7",
   "metadata": {},
   "outputs": [],
   "source": [
    "var_names = performance_scores.scores_seeds(seed=100,target=target,\n",
    "                                            lag=int(config_set['target_lag']),\n",
    "                                            exp='SHIPSERA5_noassum',\n",
    "                                           prefix='/work/FAC/FGSE/IDYST/tbeucler/default/saranya/causal/SHIPS/2024_causalML_results/results/',\n",
    "                                           suffix=None).read_stored(exp='SHIPSERA5_noassum')['var_names']"
   ]
  },
  {
   "cell_type": "markdown",
   "id": "743a3e1e-a190-4bda-b823-5e1092cd0ba0",
   "metadata": {},
   "source": [
    "# No causal selection"
   ]
  },
  {
   "cell_type": "code",
   "execution_count": 7,
   "id": "2b3228da-3b81-4dc1-a25a-33e5972e05e2",
   "metadata": {},
   "outputs": [
    {
     "name": "stderr",
     "output_type": "stream",
     "text": [
      "100%|████████████████████████████████████████████████████████████████████████████████████████████████████████████████████████████████████| 30/30 [00:14<00:00,  2.05it/s]\n"
     ]
    }
   ],
   "source": [
    "score_nocausal = []\n",
    "for seed in tqdm(seeds):\n",
    "    nocausal_results = performance_scores.scores_seeds(seed=seed,target=target,lag=int(config_set['target_lag']),exp='SHIPSERA5_noassum').run_score_noFS()\n",
    "    score_nocausal.append(nocausal_results)\n",
    "    del nocausal_results\n",
    "    gc.collect()"
   ]
  },
  {
   "cell_type": "code",
   "execution_count": 8,
   "id": "4cdea2b7-988e-4212-8f30-1c6e7639bfb0",
   "metadata": {},
   "outputs": [],
   "source": [
    "r2_train_noFS = [score_nocausal[i]['scoreboard']['train']['r2'] for i in range(len(score_nocausal))]\n",
    "r2_valid_noFS = [score_nocausal[i]['scoreboard']['valid']['r2'] for i in range(len(score_nocausal))]\n",
    "r2_test_noFS = [score_nocausal[i]['scoreboard']['test']['r2'] for i in range(len(score_nocausal))]"
   ]
  },
  {
   "cell_type": "code",
   "execution_count": 12,
   "id": "973ddbfb-6059-4778-b521-db33031d2a1c",
   "metadata": {},
   "outputs": [
    {
     "data": {
      "text/plain": [
       "(0.2508884926195001, 0.16846105741029127, 0.2299550853890877)"
      ]
     },
     "execution_count": 12,
     "metadata": {},
     "output_type": "execute_result"
    }
   ],
   "source": [
    "np.asarray(r2_train_noFS).max(),np.asarray(r2_valid_noFS).max(),np.asarray(r2_test_noFS).max()"
   ]
  },
  {
   "cell_type": "code",
   "execution_count": 48,
   "id": "cc9836b0-4dbf-4a46-80db-9b0440a6be1e",
   "metadata": {},
   "outputs": [
    {
     "data": {
      "text/plain": [
       "(0.23974486224659045, -0.3835245560810113, -0.4198396495504194)"
      ]
     },
     "execution_count": 48,
     "metadata": {},
     "output_type": "execute_result"
    }
   ],
   "source": [
    "np.asarray(r2_train_noFS).mean(),np.asarray(r2_valid_noFS).mean(),np.asarray(r2_test_noFS).mean()"
   ]
  },
  {
   "cell_type": "markdown",
   "id": "b41c3745-e315-4053-a0c7-79263e25a02b",
   "metadata": {},
   "source": [
    "# With causal"
   ]
  },
  {
   "cell_type": "code",
   "execution_count": 4,
   "id": "1bed94ae-1b49-4228-a5b6-ebc75ccbaf73",
   "metadata": {},
   "outputs": [
    {
     "data": {
      "application/json": {
       "ascii": false,
       "bar_format": null,
       "colour": null,
       "elapsed": 0.0032258033752441406,
       "initial": 0,
       "n": 0,
       "ncols": null,
       "nrows": 23,
       "postfix": null,
       "prefix": "",
       "rate": null,
       "total": 30,
       "unit": "it",
       "unit_divisor": 1000,
       "unit_scale": false
      },
      "application/vnd.jupyter.widget-view+json": {
       "model_id": "883c74bc5a974da6a587868a926b03b2",
       "version_major": 2,
       "version_minor": 0
      },
      "text/plain": [
       "  0%|          | 0/30 [00:00<?, ?it/s]"
      ]
     },
     "metadata": {},
     "output_type": "display_data"
    }
   ],
   "source": [
    "score_causal = []\n",
    "for seed in tqdm(seeds):\n",
    "    causal_results = performance_scores.scores_seeds(seed=seed,\n",
    "                                                     target=target,\n",
    "                                                     lag=int(config_set['target_lag']),\n",
    "                                                     exp='SHIPSERA5_noassum',\n",
    "                                                    prefix='/work/FAC/FGSE/IDYST/tbeucler/default/saranya/causal/SHIPS/2024_causalML_results/results/',\n",
    "                                                    suffix=None).run_score_causalFS()\n",
    "    score_causal.append(causal_results)\n",
    "    del causal_results\n",
    "    gc.collect()"
   ]
  },
  {
   "cell_type": "code",
   "execution_count": 5,
   "id": "31ef9317-7df6-4abb-b7fe-bb5381694b25",
   "metadata": {},
   "outputs": [],
   "source": [
    "r2_train_causalFS, r2_valid_causalFS, r2_test_causalFS, shapez_causalFS = [],[],[],[]\n",
    "for i in range(len(score_causal)):\n",
    "    r2_train_causalFS.append([(score_causal[i][j]['scoreboard']['train']['r2']) for j in range(len(score_causal[i]))])\n",
    "    r2_valid_causalFS.append([(score_causal[i][j]['scoreboard']['valid']['r2']) for j in range(len(score_causal[i]))])\n",
    "    r2_test_causalFS.append([(score_causal[i][j]['scoreboard']['test']['r2']) for j in range(len(score_causal[i]))])\n",
    "    shapez_causalFS.append([(score_causal[i][j]['X']['test'].shape[1]) for j in range(len(score_causal[i]))])"
   ]
  },
  {
   "cell_type": "markdown",
   "id": "aefb12bd-dea9-4526-b192-4f495bb16f59",
   "metadata": {},
   "source": [
    "## Find variable lists"
   ]
  },
  {
   "cell_type": "code",
   "execution_count": 6,
   "id": "b678c9a0-41a1-4ab0-809b-939d5e3436a2",
   "metadata": {},
   "outputs": [],
   "source": [
    "def find_best_var_per_seed_causal(r2,score_causal):\n",
    "    causal_varlists = []\n",
    "    for i in range(len(score_causal)):\n",
    "        causal_varlists.append(score_causal[i][np.asarray(r2[i]).argmax()]['corrrank'])\n",
    "    return causal_varlists\n",
    "\n",
    "def find_best_var_per_seed_corrXAI(r2,score_corr):\n",
    "    corr_varlists = []\n",
    "    for i in range(len(score_corr)):\n",
    "        corr_varlists.append(score_correlation[i]['corrrank'].sort_values(ascending=False).index[0:np.asarray(r2[i]).argmax()+1])\n",
    "    return corr_varlists\n",
    "\n",
    "def count_all_varlists(varlists):\n",
    "    from collections import Counter\n",
    "    from functools import reduce\n",
    "    freq = list(map(Counter, varlists)) \n",
    "    res = {ele: [cnt[ele] for cnt in freq] for ele in {ele for cnt in freq for ele in cnt}}\n",
    "    \n",
    "    dict1 = res\n",
    "    for k, v in dict1.items():\n",
    "        dict1[k] = reduce(lambda a, b: a+b, v)\n",
    "    return pd.Series((dict1))"
   ]
  },
  {
   "cell_type": "code",
   "execution_count": 49,
   "id": "9ed2e3d8-c7e1-494a-87cb-b6b6db0f6e37",
   "metadata": {},
   "outputs": [],
   "source": [
    "causal_varlists = find_best_var_per_seed_causal(r2_valid_causalFS,score_causal)\n",
    "count_causallists = count_all_varlists(causal_varlists)"
   ]
  },
  {
   "cell_type": "code",
   "execution_count": 50,
   "id": "051f521d-018f-4897-951f-5fecea14754a",
   "metadata": {},
   "outputs": [
    {
     "data": {
      "text/plain": [
       "clat               29\n",
       "shear_1000_850     25\n",
       "outrhum_400        24\n",
       "outpvor_500        22\n",
       "wind10             21\n",
       "outdiv_100         17\n",
       "div_0_1000_150     13\n",
       "twnd850            13\n",
       "pmin               12\n",
       "outdiv_1000        10\n",
       "outvvel_200         9\n",
       "mw_vvel_200_800     7\n",
       "div_100             7\n",
       "vvel_1000           5\n",
       "temp_150            4\n",
       "outeqt200           4\n",
       "outvort_1000        4\n",
       "vort_400            4\n",
       "gpot_1000           3\n",
       "shear_850_250.1     3\n",
       "dtype: int64"
      ]
     },
     "execution_count": 50,
     "metadata": {},
     "output_type": "execute_result"
    }
   ],
   "source": [
    "count_causallists.sort_values(ascending=False)[:20]"
   ]
  },
  {
   "cell_type": "code",
   "execution_count": 38,
   "id": "d6650238-2859-4ded-a84a-065f08308b50",
   "metadata": {
    "scrolled": true
   },
   "outputs": [
    {
     "data": {
      "image/png": "[encoded data removed]",
      "text/plain": [
       "<Figure size 800x400 with 1 Axes>"
      ]
     },
     "metadata": {},
     "output_type": "display_data"
    }
   ],
   "source": [
    "fig,ax = plt.subplots(1,1,figsize=(8,4))\n",
    "#sns.kdeplot(np.asarray(miss.flatten(r2_train_causalFS)),ls='--',c='k',label='Causal: Train',ax=ax)\n",
    "#sns.kdeplot((r2_train_noFS),c='k',ls='-',label='Baseline: Train',ax=ax)\n",
    "sns.kdeplot(np.asarray(miss.flatten(r2_valid_causalFS)),ls='--',c='b',label='Causal: Validation',ax=ax,cumulative=True)\n",
    "sns.kdeplot((r2_valid_noFS),c='b',ls='-',label='Baseline: Validation',ax=ax,cumulative=True)\n",
    "#sns.kdeplot(np.asarray(miss.flatten(r2_test_causalFS)),ls='--',c='r',label='Causal: Test',ax=ax,cumulative=True)\n",
    "#sns.kdeplot((r2_test_noFS),c='r',ls='-',label='Baseline: Test',ax=ax,cumulative=True)\n",
    "plt.legend(loc=2)\n",
    "plt.xlabel('R$^2$')\n",
    "#plt.xlim(-6,6)\n",
    "#plt.savefig('./figures/SHIPSonly_r2.png',dpi=600)\n",
    "plt.show()"
   ]
  },
  {
   "cell_type": "code",
   "execution_count": 35,
   "id": "c9510fcb-aba6-4de9-8e10-02528a71f489",
   "metadata": {},
   "outputs": [
    {
     "data": {
      "text/plain": [
       "(0.21499643179289152, 0.2142942615605763, 0.15818328279547011)"
      ]
     },
     "execution_count": 35,
     "metadata": {},
     "output_type": "execute_result"
    }
   ],
   "source": [
    "np.asarray(miss.flatten(r2_train_causalFS)).max(),np.asarray(miss.flatten(r2_valid_causalFS)).max(),np.asarray(miss.flatten(r2_test_causalFS)).max()"
   ]
  },
  {
   "cell_type": "code",
   "execution_count": 46,
   "id": "63c2d63a-912d-4da8-94a9-fcd97c555c2d",
   "metadata": {},
   "outputs": [
    {
     "data": {
      "text/plain": [
       "(0.18150755160328977, 0.14086613176881835, 0.12248887975611947)"
      ]
     },
     "execution_count": 46,
     "metadata": {},
     "output_type": "execute_result"
    }
   ],
   "source": [
    "np.asarray(miss.flatten(r2_train_causalFS)).mean(),np.asarray(miss.flatten(r2_valid_causalFS)).mean(),np.asarray(miss.flatten(r2_test_causalFS)).mean()"
   ]
  },
  {
   "cell_type": "markdown",
   "id": "0621f536-6342-4747-b99b-223d072b0645",
   "metadata": {},
   "source": [
    "## With Correlation"
   ]
  },
  {
   "cell_type": "code",
   "execution_count": 6,
   "id": "587adc2a-dc24-4c81-bb37-3f9042ae7773",
   "metadata": {},
   "outputs": [
    {
     "data": {
      "application/json": {
       "ascii": false,
       "bar_format": null,
       "colour": null,
       "elapsed": 0.002974271774291992,
       "initial": 0,
       "n": 0,
       "ncols": null,
       "nrows": 23,
       "postfix": null,
       "prefix": "",
       "rate": null,
       "total": 30,
       "unit": "it",
       "unit_divisor": 1000,
       "unit_scale": false
      },
      "application/vnd.jupyter.widget-view+json": {
       "model_id": "f95a31cdf6d64a9095b00dcde4b1d741",
       "version_major": 2,
       "version_minor": 0
      },
      "text/plain": [
       "  0%|          | 0/30 [00:00<?, ?it/s]"
      ]
     },
     "metadata": {},
     "output_type": "display_data"
    }
   ],
   "source": [
    "score_correlation = []\n",
    "for seed in tqdm(seeds):\n",
    "    correlation_results = performance_scores.scores_seeds(seed=seed,\n",
    "                                                     target=target,\n",
    "                                                     lag=int(config_set['target_lag']),\n",
    "                                                     exp='SHIPSERA5_noassum',\n",
    "                                                    prefix='/work/FAC/FGSE/IDYST/tbeucler/default/saranya/causal/SHIPS/2024_causalML_results/results/',\n",
    "                                                    suffix=None).run_score_corrFS(shapez=np.asarray(miss.flatten(shapez_causalFS)).max())\n",
    "    score_correlation.append(correlation_results)\n",
    "    del correlation_results\n",
    "    gc.collect()"
   ]
  },
  {
   "cell_type": "code",
   "execution_count": 7,
   "id": "418823ec-6857-4c3a-8cdb-9fb4f60445d9",
   "metadata": {},
   "outputs": [],
   "source": [
    "r2_train_corrFS, r2_valid_corrFS, r2_test_corrFS = [],[],[]\n",
    "for i in range(len(score_correlation)):\n",
    "    tempscore = score_correlation[i]['scoreboard']\n",
    "    trains,valids,tests=[],[],[]\n",
    "    for j in range(len(tempscore)):\n",
    "        trains.append(tempscore[j]['train']['r2'])\n",
    "        valids.append(tempscore[j]['valid']['r2'])\n",
    "        tests.append(tempscore[j]['test']['r2'])\n",
    "    r2_train_corrFS.append(trains)\n",
    "    r2_valid_corrFS.append(valids)\n",
    "    r2_test_corrFS.append(tests)"
   ]
  },
  {
   "cell_type": "code",
   "execution_count": 47,
   "id": "94cdde55-bf70-4dc4-a6c3-4474b48ee9dd",
   "metadata": {},
   "outputs": [],
   "source": [
    "corr_varlists = find_best_var_per_seed_corrXAI(r2_valid_corrFS,score_correlation)\n",
    "count_corrlists = count_all_varlists(corr_varlists)"
   ]
  },
  {
   "cell_type": "code",
   "execution_count": 48,
   "id": "40c82bae-94c5-470d-beab-76d259652cbd",
   "metadata": {},
   "outputs": [
    {
     "data": {
      "text/plain": [
       "vort_400           18\n",
       "vort_500           23\n",
       "vort_1000          20\n",
       "pvor_400           25\n",
       "vort_850           24\n",
       "pvor_700           24\n",
       "tanom400           25\n",
       "gpot_1000          15\n",
       "vort_700           24\n",
       "shear_850_200.1     1\n",
       "gpot_700            2\n",
       "vvel_1000          22\n",
       "vort_250            1\n",
       "pvor_850           25\n",
       "vort_300            6\n",
       "tanom500           26\n",
       "div_1000           24\n",
       "pmin               30\n",
       "temp_200            7\n",
       "gpot_800            6\n",
       "shear_850_200       6\n",
       "wind10             28\n",
       "tanom700           25\n",
       "pvor_1000          21\n",
       "eqt200              8\n",
       "tanom1000          16\n",
       "pvor_500           25\n",
       "vvel_850           11\n",
       "vvel_700            2\n",
       "tanom250           26\n",
       "shear_1000_850     24\n",
       "tanom300           25\n",
       "gpot_850            9\n",
       "tanom200           20\n",
       "tanom850           23\n",
       "dtype: int64"
      ]
     },
     "execution_count": 48,
     "metadata": {},
     "output_type": "execute_result"
    }
   ],
   "source": [
    "count_corrlists"
   ]
  },
  {
   "cell_type": "code",
   "execution_count": 9,
   "id": "2280fc4f-691b-44d1-a400-7b69bd8b44b9",
   "metadata": {},
   "outputs": [
    {
     "data": {
      "image/png": "[encoded data removed]",
      "text/plain": [
       "<Figure size 576x288 with 1 Axes>"
      ]
     },
     "metadata": {
      "needs_background": "light"
     },
     "output_type": "display_data"
    }
   ],
   "source": [
    "fig,ax = plt.subplots(1,1,figsize=(8,4))\n",
    "sns.kdeplot(np.asarray(miss.flatten(r2_train_causalFS)),ls='--',lw=1,c='k',label='Causal: Train',ax=ax)\n",
    "sns.kdeplot(np.asarray(miss.flatten(r2_train_corrFS)),c='k',ls='-',lw=1,alpha=0.7,label='Correlation: Train',ax=ax)\n",
    "sns.kdeplot(np.asarray(miss.flatten(r2_valid_causalFS)),ls='--',lw=1,c='b',label='Causal: Validation',ax=ax)\n",
    "sns.kdeplot(np.asarray(miss.flatten(r2_valid_corrFS)),c='b',ls='-',lw=1,alpha=0.7,label='Correlation: Validation',ax=ax)\n",
    "sns.kdeplot(np.asarray(miss.flatten(r2_test_causalFS)),ls='--',lw=1,c='r',label='Causal: Test',ax=ax)\n",
    "sns.kdeplot(np.asarray(miss.flatten(r2_test_corrFS)),c='r',ls='-',lw=1,alpha=0.7,label='Correlation: Test',ax=ax)\n",
    "plt.legend(loc=2)\n",
    "plt.xlabel('R$^2$')\n",
    "#plt.xlim(-0.5,0.5)\n",
    "#plt.savefig('./figures/SHIPSonly_r2_corr.png',dpi=600)\n",
    "plt.show()"
   ]
  },
  {
   "cell_type": "code",
   "execution_count": 220,
   "id": "5b6c2344-0d1c-48ae-8d1b-31b43fd77ef9",
   "metadata": {},
   "outputs": [
    {
     "data": {
      "image/png": "[encoded data removed]",
      "text/plain": [
       "<Figure size 640x480 with 1 Axes>"
      ]
     },
     "metadata": {},
     "output_type": "display_data"
    }
   ],
   "source": [
    "i=21\n",
    "plt.plot(r2_train_corrFS[i])\n",
    "plt.plot(r2_valid_corrFS[i])\n",
    "plt.plot(shapez_causalFS[i],r2_valid_causalFS[i])\n",
    "plt.ylim(0,0.25)\n",
    "plt.show()"
   ]
  },
  {
   "cell_type": "code",
   "execution_count": 72,
   "id": "db36b407-9c01-4eb7-bc85-7e09f6e01c29",
   "metadata": {},
   "outputs": [
    {
     "data": {
      "text/plain": [
       "68"
      ]
     },
     "execution_count": 72,
     "metadata": {},
     "output_type": "execute_result"
    }
   ],
   "source": [
    "score_causal[29]["
   ]
  },
  {
   "cell_type": "code",
   "execution_count": 214,
   "id": "c7d8fa38-917a-4483-9aca-b77826638555",
   "metadata": {},
   "outputs": [
    {
     "data": {
      "text/plain": [
       "<module 'util.models.performance_scores' from '/work/FAC/FGSE/IDYST/tbeucler/default/freddy0218/2024_causalML/util/models/performance_scores.py'>"
      ]
     },
     "execution_count": 214,
     "metadata": {},
     "output_type": "execute_result"
    }
   ],
   "source": [
    "import importlib\n",
    "importlib.reload(performance_scores)"
   ]
  },
  {
   "cell_type": "code",
   "execution_count": null,
   "id": "c98fcf35-8c5b-458e-b17a-0e7222aba94e",
   "metadata": {},
   "outputs": [],
   "source": []
  }
 ],
 "metadata": {
  "kernelspec": {
   "display_name": "Python 3 (ipykernel)",
   "language": "python",
   "name": "python3"
  },
  "language_info": {
   "codemirror_mode": {
    "name": "ipython",
    "version": 3
   },
   "file_extension": ".py",
   "mimetype": "text/x-python",
   "name": "python",
   "nbconvert_exporter": "python",
   "pygments_lexer": "ipython3",
   "version": "3.9.16"
  }
 },
 "nbformat": 4,
 "nbformat_minor": 5
}
